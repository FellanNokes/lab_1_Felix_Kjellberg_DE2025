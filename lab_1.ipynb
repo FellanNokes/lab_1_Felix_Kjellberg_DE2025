{
 "cells": [
  {
   "cell_type": "markdown",
   "id": "9d3faa06",
   "metadata": {},
   "source": []
  },
  {
   "cell_type": "code",
   "execution_count": null,
   "id": "0c31ceb9",
   "metadata": {},
   "outputs": [
    {
     "name": "stdout",
     "output_type": "stream",
     "text": [
      ">seq1\n",
      "cGTAaccaataaaaaaacaagcttaacctaattc\n",
      ">seq2\n",
      "agcttagTTTGGatctggccgggg\n",
      ">seq3\n",
      "gcggatttactcCCCCCAAAAANNaggggagagcccagataaatggagtctgtgcgtccaca\n",
      ">seq4\n",
      "gcggatttactcaggggagagcccagGGataaatggagtctgtgcgtccaca\n",
      "[{'a': 17, 'c': 8, 'g': 2, 't': 7}, {'a': 3, 'c': 4, 'g': 10, 't': 7}, {'a': 18, 'c': 16, 'g': 16, 't': 10}, {'a': 13, 'c': 11, 'g': 18, 't': 10}]\n"
     ]
    }
   ],
   "source": [
    "#Task 1\n",
    "data_path = \"data\"\n",
    "\n",
    "path_dna = f\"{data_path}/dna_raw.txt\"\n",
    "path_dna_complicated = f\"{data_path}/dna_raw_complicated.txt\"\n",
    "\n",
    "with open(path_dna, \"r\") as file:\n",
    "    text = file.read()\n",
    "\n",
    "#spliting the data and cleaning it\n",
    "dna_texts = text.split(\">seq\")\n",
    "dna_texts = [dna_text.strip(\"1234\\n\").lower() for dna_text in dna_texts] # TODO:find a way to clean numbers better with \\d (need re.sub)\n",
    "\n",
    "sequences = []\n",
    "for text in dna_texts:\n",
    "    #this is to exclude the first item of the list which is empty TDLR: did use chatgpt to find this problem and handle it\n",
    "    if not text.strip(): #TODO: Find away to remove it in the cleaning part of the code\n",
    "        continue\n",
    "    sequence = dict(a = 0, c = 0, g = 0, t =0)\n",
    "    for letter in text:\n",
    "        if letter == \"a\":\n",
    "            sequence[\"a\"] += 1\n",
    "        if letter == \"c\":\n",
    "            sequence[\"c\"] += 1\n",
    "        if letter == \"g\":\n",
    "            sequence[\"g\"] += 1\n",
    "        if letter == \"t\":\n",
    "            sequence[\"t\"] += 1\n",
    "    sequences.append(sequence)\n",
    "sequence\n",
    "print(sequences)\n",
    "\n",
    "#Use matplotlib to show each of the sequences in a bar graph\n",
    "#Task 2\n",
    "\n",
    "#Create a function that saves the number from the sequence as a key in dictionary and include everything in task 1 aswell\n",
    "\n",
    "#Here we test if we can solve the dna_raw_complicated.txt with the code we have, if not we refactor until we can."
   ]
  },
  {
   "cell_type": "code",
   "execution_count": null,
   "id": "d2172036",
   "metadata": {},
   "outputs": [],
   "source": []
  }
 ],
 "metadata": {
  "kernelspec": {
   "display_name": "lab_1_Felix_Kjellberg_DE2025 (3.12.10)",
   "language": "python",
   "name": "python3"
  },
  "language_info": {
   "codemirror_mode": {
    "name": "ipython",
    "version": 3
   },
   "file_extension": ".py",
   "mimetype": "text/x-python",
   "name": "python",
   "nbconvert_exporter": "python",
   "pygments_lexer": "ipython3",
   "version": "3.12.10"
  }
 },
 "nbformat": 4,
 "nbformat_minor": 5
}
