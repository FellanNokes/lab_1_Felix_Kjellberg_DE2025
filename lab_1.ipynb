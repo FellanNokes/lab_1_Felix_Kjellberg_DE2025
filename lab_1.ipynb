{
 "cells": [
  {
   "cell_type": "markdown",
   "id": "9d3faa06",
   "metadata": {},
   "source": []
  },
  {
   "cell_type": "code",
   "execution_count": null,
   "id": "0c31ceb9",
   "metadata": {},
   "outputs": [
    {
     "name": "stdout",
     "output_type": "stream",
     "text": [
      "['', 'cgtaaccaataaaaaaacaagcttaacctaattc', 'agcttagtttggatctggccgggg', 'gcggatttactccccccaaaaannaggggagagcccagataaatggagtctgtgcgtccaca', 'gcggatttactcaggggagagcccagggataaatggagtctgtgcgtccaca']\n",
      "[{'a': 17, 'c': 8, 'g': 2, 't': 7}, {'a': 3, 'c': 4, 'g': 10, 't': 7}, {'a': 18, 'c': 16, 'g': 16, 't': 10}, {'a': 13, 'c': 11, 'g': 18, 't': 10}]\n"
     ]
    },
    {
     "ename": "TypeError",
     "evalue": "'builtin_function_or_method' object is not iterable",
     "output_type": "error",
     "traceback": [
      "\u001b[31m---------------------------------------------------------------------------\u001b[39m",
      "\u001b[31mTypeError\u001b[39m                                 Traceback (most recent call last)",
      "\u001b[36mCell\u001b[39m\u001b[36m \u001b[39m\u001b[32mIn[9]\u001b[39m\u001b[32m, line 40\u001b[39m\n\u001b[32m     37\u001b[39m \u001b[38;5;28mprint\u001b[39m(sequences)\n\u001b[32m     39\u001b[39m \u001b[38;5;28;01mfor\u001b[39;00m sequence \u001b[38;5;129;01min\u001b[39;00m sequences:\n\u001b[32m---> \u001b[39m\u001b[32m40\u001b[39m     plt.bar(sequence.values, height=\u001b[38;5;28;43mmax\u001b[39;49m\u001b[43m(\u001b[49m\u001b[43msequence\u001b[49m\u001b[43m.\u001b[49m\u001b[43mvalues\u001b[49m\u001b[43m)\u001b[49m)\n\u001b[32m     43\u001b[39m \u001b[38;5;66;03m#Use matplotlib to show each of the sequences in a bar graph\u001b[39;00m\n\u001b[32m     44\u001b[39m \u001b[38;5;66;03m#Task 2\u001b[39;00m\n\u001b[32m     45\u001b[39m \n\u001b[32m     46\u001b[39m \n\u001b[32m     47\u001b[39m \u001b[38;5;66;03m#Create a function that saves the number from the sequence as a key in dictionary and include everything in task 1 aswell\u001b[39;00m\n",
      "\u001b[31mTypeError\u001b[39m: 'builtin_function_or_method' object is not iterable"
     ]
    }
   ],
   "source": [
    "#Task 1\n",
    "import matplotlib.pyplot as plt\n",
    "import numpy as np\n",
    "data_path = \"data\"\n",
    "\n",
    "path_dna = f\"{data_path}/dna_raw.txt\"\n",
    "path_dna_complicated = f\"{data_path}/dna_raw_complicated.txt\"\n",
    "\n",
    "def extract_clean_data(path):\n",
    "    with open(path, \"r\") as file:\n",
    "        text = file.read()\n",
    "\n",
    "    #spliting the data and cleaning it\n",
    "    texts = text.split(\">seq\")\n",
    "    texts = [text.strip(\"1234\\n\").lower() for text in texts] # TODO:find a way to clean numbers better with \\d (need re.sub)\n",
    "    return texts\n",
    "\n",
    "dna_texts = extract_clean_data(path_dna)\n",
    "print(dna_texts)\n",
    "sequences = []\n",
    "for text in dna_texts:\n",
    "    #this is to exclude the first item of the list which is empty TDLR: did use chatgpt to find this problem and handle it\n",
    "    if not text.strip(): #TODO: Find away to remove it in the cleaning part of the code\n",
    "        continue\n",
    "    sequence = dict(a = 0, c = 0, g = 0, t =0)\n",
    "    for letter in text:\n",
    "        if letter == \"a\":\n",
    "            sequence[\"a\"] += 1\n",
    "        if letter == \"c\":\n",
    "            sequence[\"c\"] += 1\n",
    "        if letter == \"g\":\n",
    "            sequence[\"g\"] += 1\n",
    "        if letter == \"t\":\n",
    "            sequence[\"t\"] += 1\n",
    "    sequences.append(sequence)\n",
    "sequence\n",
    "print(sequences)\n",
    "\n",
    "for sequence in sequences:\n",
    "    plt.bar(sequence.values)\n",
    "        \n",
    "\n",
    "#Use matplotlib to show each of the sequences in a bar graph\n",
    "#Task 2\n",
    "\n",
    "\n",
    "#Create a function that saves the number from the sequence as a key in dictionary and include everything in task 1 aswell"
   ]
  },
  {
   "cell_type": "code",
   "execution_count": null,
   "id": "d2172036",
   "metadata": {},
   "outputs": [],
   "source": []
  }
 ],
 "metadata": {
  "kernelspec": {
   "display_name": "lab_1_Felix_Kjellberg_DE2025",
   "language": "python",
   "name": "python3"
  },
  "language_info": {
   "codemirror_mode": {
    "name": "ipython",
    "version": 3
   },
   "file_extension": ".py",
   "mimetype": "text/x-python",
   "name": "python",
   "nbconvert_exporter": "python",
   "pygments_lexer": "ipython3",
   "version": "3.12.10"
  }
 },
 "nbformat": 4,
 "nbformat_minor": 5
}
