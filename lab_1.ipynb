{
 "cells": [
  {
   "cell_type": "markdown",
   "id": "9d3faa06",
   "metadata": {},
   "source": []
  },
  {
   "cell_type": "code",
   "execution_count": null,
   "id": "0c31ceb9",
   "metadata": {},
   "outputs": [],
   "source": [
    "#Task 1\n",
    "#first I want to read the files and save them into a variable (I might want to clean the complicated data and then save it as a new file. Otherwise i clean the variable)\n",
    "\n",
    "#Here I clean the the data (turning everything to lower, removing new lines and empty spaces if needed) and seperate() each sequence and save them into a list\n",
    "\n",
    "#Here we create a dictionary for each sequence and we count the amount of a, t, c and g and save the values for each sequence\n",
    "\n",
    "#Task 2\n",
    "\n",
    "#Create a function that saves the number from the sequence as a key in dictionary and include everything in task 1 aswell\n",
    "\n",
    "#Here we test if we can solve the dna_raw_complicated.txt with the code we have, if not we refactor until we can."
   ]
  }
 ],
 "metadata": {
  "kernelspec": {
   "display_name": "lab_1_Felix_Kjellberg_DE2025 (3.12.10)",
   "language": "python",
   "name": "python3"
  },
  "language_info": {
   "name": "python",
   "version": "3.12.10"
  }
 },
 "nbformat": 4,
 "nbformat_minor": 5
}
