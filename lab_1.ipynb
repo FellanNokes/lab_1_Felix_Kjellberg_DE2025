{
 "cells": [
  {
   "cell_type": "markdown",
   "id": "9d3faa06",
   "metadata": {},
   "source": []
  },
  {
   "cell_type": "code",
   "execution_count": null,
   "id": "0c31ceb9",
   "metadata": {},
   "outputs": [
    {
     "name": "stdout",
     "output_type": "stream",
     "text": [
      ">seq1\n",
      "cGTAaccaataaaaaaacaagcttaacctaattc\n",
      ">seq2\n",
      "agcttagTTTGGatctggccgggg\n",
      ">seq3\n",
      "gcggatttactcCCCCCAAAAANNaggggagagcccagataaatggagtctgtgcgtccaca\n",
      ">seq4\n",
      "gcggatttactcaggggagagcccagGGataaatggagtctgtgcgtccaca\n"
     ]
    },
    {
     "data": {
      "text/plain": [
       "['',\n",
       " 'cgtaaccaataaaaaaacaagcttaacctaattc',\n",
       " 'agcttagtttggatctggccgggg',\n",
       " 'gcggatttactccccccaaaaannaggggagagcccagataaatggagtctgtgcgtccaca',\n",
       " 'gcggatttactcaggggagagcccagggataaatggagtctgtgcgtccaca']"
      ]
     },
     "execution_count": 17,
     "metadata": {},
     "output_type": "execute_result"
    }
   ],
   "source": [
    "#Task 1\n",
    "data_path = \"data\"\n",
    "\n",
    "path_dna = f\"{data_path}/dna_raw.txt\"\n",
    "path_dna_complicated = f\"{data_path}/dna_raw_complicated.txt\"\n",
    "\n",
    "with open(path_dna, \"r\") as file:\n",
    "    text = file.read()\n",
    "\n",
    "print(text)\n",
    "\n",
    "#spliting the data and cleaning it\n",
    "dna_texts = text.split(\">seq\")\n",
    "dna_texts = [dna_text.strip(\"1234\\n\").lower() for dna_text in dna_texts] # find a way to clean numbers better with \\d\n",
    "\n",
    "dna_texts\n",
    "\n",
    "#Here we create a dictionary for each sequence and we count the amount of a, t, c and g and save the values for each sequence\n",
    "\n",
    "#Task 2\n",
    "\n",
    "#Create a function that saves the number from the sequence as a key in dictionary and include everything in task 1 aswell\n",
    "\n",
    "#Here we test if we can solve the dna_raw_complicated.txt with the code we have, if not we refactor until we can."
   ]
  },
  {
   "cell_type": "code",
   "execution_count": null,
   "id": "d2172036",
   "metadata": {},
   "outputs": [],
   "source": []
  }
 ],
 "metadata": {
  "kernelspec": {
   "display_name": "lab_1_Felix_Kjellberg_DE2025 (3.12.10)",
   "language": "python",
   "name": "python3"
  },
  "language_info": {
   "codemirror_mode": {
    "name": "ipython",
    "version": 3
   },
   "file_extension": ".py",
   "mimetype": "text/x-python",
   "name": "python",
   "nbconvert_exporter": "python",
   "pygments_lexer": "ipython3",
   "version": "3.12.10"
  }
 },
 "nbformat": 4,
 "nbformat_minor": 5
}
